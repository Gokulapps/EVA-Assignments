{
  "nbformat": 4,
  "nbformat_minor": 0,
  "metadata": {
    "colab": {
      "provenance": []
    },
    "kernelspec": {
      "name": "python3",
      "display_name": "Python 3"
    },
    "language_info": {
      "name": "python"
    },
    "gpuClass": "standard",
    "accelerator": "GPU",
    "widgets": {
      "application/vnd.jupyter.widget-state+json": {
        "84313c02d53744f89ca95f7cc6448d04": {
          "model_module": "@jupyter-widgets/controls",
          "model_name": "HBoxModel",
          "model_module_version": "1.5.0",
          "state": {
            "_dom_classes": [],
            "_model_module": "@jupyter-widgets/controls",
            "_model_module_version": "1.5.0",
            "_model_name": "HBoxModel",
            "_view_count": null,
            "_view_module": "@jupyter-widgets/controls",
            "_view_module_version": "1.5.0",
            "_view_name": "HBoxView",
            "box_style": "",
            "children": [
              "IPY_MODEL_ec0293f551924a908ea94e60572a4fd1",
              "IPY_MODEL_014f01ba57b84a34abef1ea1f297a2ba",
              "IPY_MODEL_0ecde280613e47d69453b4169563a52c"
            ],
            "layout": "IPY_MODEL_411cb6835bc146979b509a6c8825223b"
          }
        },
        "ec0293f551924a908ea94e60572a4fd1": {
          "model_module": "@jupyter-widgets/controls",
          "model_name": "HTMLModel",
          "model_module_version": "1.5.0",
          "state": {
            "_dom_classes": [],
            "_model_module": "@jupyter-widgets/controls",
            "_model_module_version": "1.5.0",
            "_model_name": "HTMLModel",
            "_view_count": null,
            "_view_module": "@jupyter-widgets/controls",
            "_view_module_version": "1.5.0",
            "_view_name": "HTMLView",
            "description": "",
            "description_tooltip": null,
            "layout": "IPY_MODEL_232bfd8b332f411f8a06915e01ef2d4b",
            "placeholder": "​",
            "style": "IPY_MODEL_b8466239b1d94edea32f692a5435e979",
            "value": "100%"
          }
        },
        "014f01ba57b84a34abef1ea1f297a2ba": {
          "model_module": "@jupyter-widgets/controls",
          "model_name": "FloatProgressModel",
          "model_module_version": "1.5.0",
          "state": {
            "_dom_classes": [],
            "_model_module": "@jupyter-widgets/controls",
            "_model_module_version": "1.5.0",
            "_model_name": "FloatProgressModel",
            "_view_count": null,
            "_view_module": "@jupyter-widgets/controls",
            "_view_module_version": "1.5.0",
            "_view_name": "ProgressView",
            "bar_style": "success",
            "description": "",
            "description_tooltip": null,
            "layout": "IPY_MODEL_6424c008d0fc41968f19de9de1b78a51",
            "max": 26421880,
            "min": 0,
            "orientation": "horizontal",
            "style": "IPY_MODEL_643cb6bf43264a31b458ea03c112da29",
            "value": 26421880
          }
        },
        "0ecde280613e47d69453b4169563a52c": {
          "model_module": "@jupyter-widgets/controls",
          "model_name": "HTMLModel",
          "model_module_version": "1.5.0",
          "state": {
            "_dom_classes": [],
            "_model_module": "@jupyter-widgets/controls",
            "_model_module_version": "1.5.0",
            "_model_name": "HTMLModel",
            "_view_count": null,
            "_view_module": "@jupyter-widgets/controls",
            "_view_module_version": "1.5.0",
            "_view_name": "HTMLView",
            "description": "",
            "description_tooltip": null,
            "layout": "IPY_MODEL_9f96cae889d743be996c3799f53e5d4a",
            "placeholder": "​",
            "style": "IPY_MODEL_00dd52b8ab9740d89f04aa27edf80059",
            "value": " 26421880/26421880 [00:01&lt;00:00, 28083138.33it/s]"
          }
        },
        "411cb6835bc146979b509a6c8825223b": {
          "model_module": "@jupyter-widgets/base",
          "model_name": "LayoutModel",
          "model_module_version": "1.2.0",
          "state": {
            "_model_module": "@jupyter-widgets/base",
            "_model_module_version": "1.2.0",
            "_model_name": "LayoutModel",
            "_view_count": null,
            "_view_module": "@jupyter-widgets/base",
            "_view_module_version": "1.2.0",
            "_view_name": "LayoutView",
            "align_content": null,
            "align_items": null,
            "align_self": null,
            "border": null,
            "bottom": null,
            "display": null,
            "flex": null,
            "flex_flow": null,
            "grid_area": null,
            "grid_auto_columns": null,
            "grid_auto_flow": null,
            "grid_auto_rows": null,
            "grid_column": null,
            "grid_gap": null,
            "grid_row": null,
            "grid_template_areas": null,
            "grid_template_columns": null,
            "grid_template_rows": null,
            "height": null,
            "justify_content": null,
            "justify_items": null,
            "left": null,
            "margin": null,
            "max_height": null,
            "max_width": null,
            "min_height": null,
            "min_width": null,
            "object_fit": null,
            "object_position": null,
            "order": null,
            "overflow": null,
            "overflow_x": null,
            "overflow_y": null,
            "padding": null,
            "right": null,
            "top": null,
            "visibility": null,
            "width": null
          }
        },
        "232bfd8b332f411f8a06915e01ef2d4b": {
          "model_module": "@jupyter-widgets/base",
          "model_name": "LayoutModel",
          "model_module_version": "1.2.0",
          "state": {
            "_model_module": "@jupyter-widgets/base",
            "_model_module_version": "1.2.0",
            "_model_name": "LayoutModel",
            "_view_count": null,
            "_view_module": "@jupyter-widgets/base",
            "_view_module_version": "1.2.0",
            "_view_name": "LayoutView",
            "align_content": null,
            "align_items": null,
            "align_self": null,
            "border": null,
            "bottom": null,
            "display": null,
            "flex": null,
            "flex_flow": null,
            "grid_area": null,
            "grid_auto_columns": null,
            "grid_auto_flow": null,
            "grid_auto_rows": null,
            "grid_column": null,
            "grid_gap": null,
            "grid_row": null,
            "grid_template_areas": null,
            "grid_template_columns": null,
            "grid_template_rows": null,
            "height": null,
            "justify_content": null,
            "justify_items": null,
            "left": null,
            "margin": null,
            "max_height": null,
            "max_width": null,
            "min_height": null,
            "min_width": null,
            "object_fit": null,
            "object_position": null,
            "order": null,
            "overflow": null,
            "overflow_x": null,
            "overflow_y": null,
            "padding": null,
            "right": null,
            "top": null,
            "visibility": null,
            "width": null
          }
        },
        "b8466239b1d94edea32f692a5435e979": {
          "model_module": "@jupyter-widgets/controls",
          "model_name": "DescriptionStyleModel",
          "model_module_version": "1.5.0",
          "state": {
            "_model_module": "@jupyter-widgets/controls",
            "_model_module_version": "1.5.0",
            "_model_name": "DescriptionStyleModel",
            "_view_count": null,
            "_view_module": "@jupyter-widgets/base",
            "_view_module_version": "1.2.0",
            "_view_name": "StyleView",
            "description_width": ""
          }
        },
        "6424c008d0fc41968f19de9de1b78a51": {
          "model_module": "@jupyter-widgets/base",
          "model_name": "LayoutModel",
          "model_module_version": "1.2.0",
          "state": {
            "_model_module": "@jupyter-widgets/base",
            "_model_module_version": "1.2.0",
            "_model_name": "LayoutModel",
            "_view_count": null,
            "_view_module": "@jupyter-widgets/base",
            "_view_module_version": "1.2.0",
            "_view_name": "LayoutView",
            "align_content": null,
            "align_items": null,
            "align_self": null,
            "border": null,
            "bottom": null,
            "display": null,
            "flex": null,
            "flex_flow": null,
            "grid_area": null,
            "grid_auto_columns": null,
            "grid_auto_flow": null,
            "grid_auto_rows": null,
            "grid_column": null,
            "grid_gap": null,
            "grid_row": null,
            "grid_template_areas": null,
            "grid_template_columns": null,
            "grid_template_rows": null,
            "height": null,
            "justify_content": null,
            "justify_items": null,
            "left": null,
            "margin": null,
            "max_height": null,
            "max_width": null,
            "min_height": null,
            "min_width": null,
            "object_fit": null,
            "object_position": null,
            "order": null,
            "overflow": null,
            "overflow_x": null,
            "overflow_y": null,
            "padding": null,
            "right": null,
            "top": null,
            "visibility": null,
            "width": null
          }
        },
        "643cb6bf43264a31b458ea03c112da29": {
          "model_module": "@jupyter-widgets/controls",
          "model_name": "ProgressStyleModel",
          "model_module_version": "1.5.0",
          "state": {
            "_model_module": "@jupyter-widgets/controls",
            "_model_module_version": "1.5.0",
            "_model_name": "ProgressStyleModel",
            "_view_count": null,
            "_view_module": "@jupyter-widgets/base",
            "_view_module_version": "1.2.0",
            "_view_name": "StyleView",
            "bar_color": null,
            "description_width": ""
          }
        },
        "9f96cae889d743be996c3799f53e5d4a": {
          "model_module": "@jupyter-widgets/base",
          "model_name": "LayoutModel",
          "model_module_version": "1.2.0",
          "state": {
            "_model_module": "@jupyter-widgets/base",
            "_model_module_version": "1.2.0",
            "_model_name": "LayoutModel",
            "_view_count": null,
            "_view_module": "@jupyter-widgets/base",
            "_view_module_version": "1.2.0",
            "_view_name": "LayoutView",
            "align_content": null,
            "align_items": null,
            "align_self": null,
            "border": null,
            "bottom": null,
            "display": null,
            "flex": null,
            "flex_flow": null,
            "grid_area": null,
            "grid_auto_columns": null,
            "grid_auto_flow": null,
            "grid_auto_rows": null,
            "grid_column": null,
            "grid_gap": null,
            "grid_row": null,
            "grid_template_areas": null,
            "grid_template_columns": null,
            "grid_template_rows": null,
            "height": null,
            "justify_content": null,
            "justify_items": null,
            "left": null,
            "margin": null,
            "max_height": null,
            "max_width": null,
            "min_height": null,
            "min_width": null,
            "object_fit": null,
            "object_position": null,
            "order": null,
            "overflow": null,
            "overflow_x": null,
            "overflow_y": null,
            "padding": null,
            "right": null,
            "top": null,
            "visibility": null,
            "width": null
          }
        },
        "00dd52b8ab9740d89f04aa27edf80059": {
          "model_module": "@jupyter-widgets/controls",
          "model_name": "DescriptionStyleModel",
          "model_module_version": "1.5.0",
          "state": {
            "_model_module": "@jupyter-widgets/controls",
            "_model_module_version": "1.5.0",
            "_model_name": "DescriptionStyleModel",
            "_view_count": null,
            "_view_module": "@jupyter-widgets/base",
            "_view_module_version": "1.2.0",
            "_view_name": "StyleView",
            "description_width": ""
          }
        },
        "1d25d0eae3604530be62338c213a1cc5": {
          "model_module": "@jupyter-widgets/controls",
          "model_name": "HBoxModel",
          "model_module_version": "1.5.0",
          "state": {
            "_dom_classes": [],
            "_model_module": "@jupyter-widgets/controls",
            "_model_module_version": "1.5.0",
            "_model_name": "HBoxModel",
            "_view_count": null,
            "_view_module": "@jupyter-widgets/controls",
            "_view_module_version": "1.5.0",
            "_view_name": "HBoxView",
            "box_style": "",
            "children": [
              "IPY_MODEL_9e1936cdd282421a92bd6f6fd64bda25",
              "IPY_MODEL_f9b64a128d2949fda56274c97b5e4216",
              "IPY_MODEL_12e6a36e4314493b995379686fb3fa86"
            ],
            "layout": "IPY_MODEL_c755f214688e4d52a6e87c8c02b4694a"
          }
        },
        "9e1936cdd282421a92bd6f6fd64bda25": {
          "model_module": "@jupyter-widgets/controls",
          "model_name": "HTMLModel",
          "model_module_version": "1.5.0",
          "state": {
            "_dom_classes": [],
            "_model_module": "@jupyter-widgets/controls",
            "_model_module_version": "1.5.0",
            "_model_name": "HTMLModel",
            "_view_count": null,
            "_view_module": "@jupyter-widgets/controls",
            "_view_module_version": "1.5.0",
            "_view_name": "HTMLView",
            "description": "",
            "description_tooltip": null,
            "layout": "IPY_MODEL_7fed744fe232491cb27870a65c69e68b",
            "placeholder": "​",
            "style": "IPY_MODEL_eced18d01d34461887af89df18147315",
            "value": "100%"
          }
        },
        "f9b64a128d2949fda56274c97b5e4216": {
          "model_module": "@jupyter-widgets/controls",
          "model_name": "FloatProgressModel",
          "model_module_version": "1.5.0",
          "state": {
            "_dom_classes": [],
            "_model_module": "@jupyter-widgets/controls",
            "_model_module_version": "1.5.0",
            "_model_name": "FloatProgressModel",
            "_view_count": null,
            "_view_module": "@jupyter-widgets/controls",
            "_view_module_version": "1.5.0",
            "_view_name": "ProgressView",
            "bar_style": "success",
            "description": "",
            "description_tooltip": null,
            "layout": "IPY_MODEL_a8820dd3c0794547885e717e814f3ca9",
            "max": 29515,
            "min": 0,
            "orientation": "horizontal",
            "style": "IPY_MODEL_d50a42eb27954abcbe7d4023e1436019",
            "value": 29515
          }
        },
        "12e6a36e4314493b995379686fb3fa86": {
          "model_module": "@jupyter-widgets/controls",
          "model_name": "HTMLModel",
          "model_module_version": "1.5.0",
          "state": {
            "_dom_classes": [],
            "_model_module": "@jupyter-widgets/controls",
            "_model_module_version": "1.5.0",
            "_model_name": "HTMLModel",
            "_view_count": null,
            "_view_module": "@jupyter-widgets/controls",
            "_view_module_version": "1.5.0",
            "_view_name": "HTMLView",
            "description": "",
            "description_tooltip": null,
            "layout": "IPY_MODEL_978f4720177f4836b8c8b3d8f06bce5d",
            "placeholder": "​",
            "style": "IPY_MODEL_056c0ee77f8f48678856fbdcf08aee14",
            "value": " 29515/29515 [00:00&lt;00:00, 295875.46it/s]"
          }
        },
        "c755f214688e4d52a6e87c8c02b4694a": {
          "model_module": "@jupyter-widgets/base",
          "model_name": "LayoutModel",
          "model_module_version": "1.2.0",
          "state": {
            "_model_module": "@jupyter-widgets/base",
            "_model_module_version": "1.2.0",
            "_model_name": "LayoutModel",
            "_view_count": null,
            "_view_module": "@jupyter-widgets/base",
            "_view_module_version": "1.2.0",
            "_view_name": "LayoutView",
            "align_content": null,
            "align_items": null,
            "align_self": null,
            "border": null,
            "bottom": null,
            "display": null,
            "flex": null,
            "flex_flow": null,
            "grid_area": null,
            "grid_auto_columns": null,
            "grid_auto_flow": null,
            "grid_auto_rows": null,
            "grid_column": null,
            "grid_gap": null,
            "grid_row": null,
            "grid_template_areas": null,
            "grid_template_columns": null,
            "grid_template_rows": null,
            "height": null,
            "justify_content": null,
            "justify_items": null,
            "left": null,
            "margin": null,
            "max_height": null,
            "max_width": null,
            "min_height": null,
            "min_width": null,
            "object_fit": null,
            "object_position": null,
            "order": null,
            "overflow": null,
            "overflow_x": null,
            "overflow_y": null,
            "padding": null,
            "right": null,
            "top": null,
            "visibility": null,
            "width": null
          }
        },
        "7fed744fe232491cb27870a65c69e68b": {
          "model_module": "@jupyter-widgets/base",
          "model_name": "LayoutModel",
          "model_module_version": "1.2.0",
          "state": {
            "_model_module": "@jupyter-widgets/base",
            "_model_module_version": "1.2.0",
            "_model_name": "LayoutModel",
            "_view_count": null,
            "_view_module": "@jupyter-widgets/base",
            "_view_module_version": "1.2.0",
            "_view_name": "LayoutView",
            "align_content": null,
            "align_items": null,
            "align_self": null,
            "border": null,
            "bottom": null,
            "display": null,
            "flex": null,
            "flex_flow": null,
            "grid_area": null,
            "grid_auto_columns": null,
            "grid_auto_flow": null,
            "grid_auto_rows": null,
            "grid_column": null,
            "grid_gap": null,
            "grid_row": null,
            "grid_template_areas": null,
            "grid_template_columns": null,
            "grid_template_rows": null,
            "height": null,
            "justify_content": null,
            "justify_items": null,
            "left": null,
            "margin": null,
            "max_height": null,
            "max_width": null,
            "min_height": null,
            "min_width": null,
            "object_fit": null,
            "object_position": null,
            "order": null,
            "overflow": null,
            "overflow_x": null,
            "overflow_y": null,
            "padding": null,
            "right": null,
            "top": null,
            "visibility": null,
            "width": null
          }
        },
        "eced18d01d34461887af89df18147315": {
          "model_module": "@jupyter-widgets/controls",
          "model_name": "DescriptionStyleModel",
          "model_module_version": "1.5.0",
          "state": {
            "_model_module": "@jupyter-widgets/controls",
            "_model_module_version": "1.5.0",
            "_model_name": "DescriptionStyleModel",
            "_view_count": null,
            "_view_module": "@jupyter-widgets/base",
            "_view_module_version": "1.2.0",
            "_view_name": "StyleView",
            "description_width": ""
          }
        },
        "a8820dd3c0794547885e717e814f3ca9": {
          "model_module": "@jupyter-widgets/base",
          "model_name": "LayoutModel",
          "model_module_version": "1.2.0",
          "state": {
            "_model_module": "@jupyter-widgets/base",
            "_model_module_version": "1.2.0",
            "_model_name": "LayoutModel",
            "_view_count": null,
            "_view_module": "@jupyter-widgets/base",
            "_view_module_version": "1.2.0",
            "_view_name": "LayoutView",
            "align_content": null,
            "align_items": null,
            "align_self": null,
            "border": null,
            "bottom": null,
            "display": null,
            "flex": null,
            "flex_flow": null,
            "grid_area": null,
            "grid_auto_columns": null,
            "grid_auto_flow": null,
            "grid_auto_rows": null,
            "grid_column": null,
            "grid_gap": null,
            "grid_row": null,
            "grid_template_areas": null,
            "grid_template_columns": null,
            "grid_template_rows": null,
            "height": null,
            "justify_content": null,
            "justify_items": null,
            "left": null,
            "margin": null,
            "max_height": null,
            "max_width": null,
            "min_height": null,
            "min_width": null,
            "object_fit": null,
            "object_position": null,
            "order": null,
            "overflow": null,
            "overflow_x": null,
            "overflow_y": null,
            "padding": null,
            "right": null,
            "top": null,
            "visibility": null,
            "width": null
          }
        },
        "d50a42eb27954abcbe7d4023e1436019": {
          "model_module": "@jupyter-widgets/controls",
          "model_name": "ProgressStyleModel",
          "model_module_version": "1.5.0",
          "state": {
            "_model_module": "@jupyter-widgets/controls",
            "_model_module_version": "1.5.0",
            "_model_name": "ProgressStyleModel",
            "_view_count": null,
            "_view_module": "@jupyter-widgets/base",
            "_view_module_version": "1.2.0",
            "_view_name": "StyleView",
            "bar_color": null,
            "description_width": ""
          }
        },
        "978f4720177f4836b8c8b3d8f06bce5d": {
          "model_module": "@jupyter-widgets/base",
          "model_name": "LayoutModel",
          "model_module_version": "1.2.0",
          "state": {
            "_model_module": "@jupyter-widgets/base",
            "_model_module_version": "1.2.0",
            "_model_name": "LayoutModel",
            "_view_count": null,
            "_view_module": "@jupyter-widgets/base",
            "_view_module_version": "1.2.0",
            "_view_name": "LayoutView",
            "align_content": null,
            "align_items": null,
            "align_self": null,
            "border": null,
            "bottom": null,
            "display": null,
            "flex": null,
            "flex_flow": null,
            "grid_area": null,
            "grid_auto_columns": null,
            "grid_auto_flow": null,
            "grid_auto_rows": null,
            "grid_column": null,
            "grid_gap": null,
            "grid_row": null,
            "grid_template_areas": null,
            "grid_template_columns": null,
            "grid_template_rows": null,
            "height": null,
            "justify_content": null,
            "justify_items": null,
            "left": null,
            "margin": null,
            "max_height": null,
            "max_width": null,
            "min_height": null,
            "min_width": null,
            "object_fit": null,
            "object_position": null,
            "order": null,
            "overflow": null,
            "overflow_x": null,
            "overflow_y": null,
            "padding": null,
            "right": null,
            "top": null,
            "visibility": null,
            "width": null
          }
        },
        "056c0ee77f8f48678856fbdcf08aee14": {
          "model_module": "@jupyter-widgets/controls",
          "model_name": "DescriptionStyleModel",
          "model_module_version": "1.5.0",
          "state": {
            "_model_module": "@jupyter-widgets/controls",
            "_model_module_version": "1.5.0",
            "_model_name": "DescriptionStyleModel",
            "_view_count": null,
            "_view_module": "@jupyter-widgets/base",
            "_view_module_version": "1.2.0",
            "_view_name": "StyleView",
            "description_width": ""
          }
        },
        "a88cc3a045c44172b3d1e82ca83fa1a5": {
          "model_module": "@jupyter-widgets/controls",
          "model_name": "HBoxModel",
          "model_module_version": "1.5.0",
          "state": {
            "_dom_classes": [],
            "_model_module": "@jupyter-widgets/controls",
            "_model_module_version": "1.5.0",
            "_model_name": "HBoxModel",
            "_view_count": null,
            "_view_module": "@jupyter-widgets/controls",
            "_view_module_version": "1.5.0",
            "_view_name": "HBoxView",
            "box_style": "",
            "children": [
              "IPY_MODEL_cc52fce610f94eeeab5a3debd6e8c003",
              "IPY_MODEL_2c3e8966976047c8a6bbd9b6e9c937a2",
              "IPY_MODEL_f30d6d12892849df85ee01b1689a1a65"
            ],
            "layout": "IPY_MODEL_d94e2f3b4868439aab12ccd93e40be04"
          }
        },
        "cc52fce610f94eeeab5a3debd6e8c003": {
          "model_module": "@jupyter-widgets/controls",
          "model_name": "HTMLModel",
          "model_module_version": "1.5.0",
          "state": {
            "_dom_classes": [],
            "_model_module": "@jupyter-widgets/controls",
            "_model_module_version": "1.5.0",
            "_model_name": "HTMLModel",
            "_view_count": null,
            "_view_module": "@jupyter-widgets/controls",
            "_view_module_version": "1.5.0",
            "_view_name": "HTMLView",
            "description": "",
            "description_tooltip": null,
            "layout": "IPY_MODEL_726921a7c7ca44108783029fc78e9fea",
            "placeholder": "​",
            "style": "IPY_MODEL_8f2b4957cc854850a61a557a24f5a297",
            "value": "100%"
          }
        },
        "2c3e8966976047c8a6bbd9b6e9c937a2": {
          "model_module": "@jupyter-widgets/controls",
          "model_name": "FloatProgressModel",
          "model_module_version": "1.5.0",
          "state": {
            "_dom_classes": [],
            "_model_module": "@jupyter-widgets/controls",
            "_model_module_version": "1.5.0",
            "_model_name": "FloatProgressModel",
            "_view_count": null,
            "_view_module": "@jupyter-widgets/controls",
            "_view_module_version": "1.5.0",
            "_view_name": "ProgressView",
            "bar_style": "success",
            "description": "",
            "description_tooltip": null,
            "layout": "IPY_MODEL_fe889c956eba4f0f978938246c914d67",
            "max": 4422102,
            "min": 0,
            "orientation": "horizontal",
            "style": "IPY_MODEL_fd9d2846512b4ba7b664e52f4cad2572",
            "value": 4422102
          }
        },
        "f30d6d12892849df85ee01b1689a1a65": {
          "model_module": "@jupyter-widgets/controls",
          "model_name": "HTMLModel",
          "model_module_version": "1.5.0",
          "state": {
            "_dom_classes": [],
            "_model_module": "@jupyter-widgets/controls",
            "_model_module_version": "1.5.0",
            "_model_name": "HTMLModel",
            "_view_count": null,
            "_view_module": "@jupyter-widgets/controls",
            "_view_module_version": "1.5.0",
            "_view_name": "HTMLView",
            "description": "",
            "description_tooltip": null,
            "layout": "IPY_MODEL_8bb57ac654fc4ae0b80042c8fcb4c38d",
            "placeholder": "​",
            "style": "IPY_MODEL_e09632d6f8c34fd086b10405551d0cd8",
            "value": " 4422102/4422102 [00:01&lt;00:00, 3763900.97it/s]"
          }
        },
        "d94e2f3b4868439aab12ccd93e40be04": {
          "model_module": "@jupyter-widgets/base",
          "model_name": "LayoutModel",
          "model_module_version": "1.2.0",
          "state": {
            "_model_module": "@jupyter-widgets/base",
            "_model_module_version": "1.2.0",
            "_model_name": "LayoutModel",
            "_view_count": null,
            "_view_module": "@jupyter-widgets/base",
            "_view_module_version": "1.2.0",
            "_view_name": "LayoutView",
            "align_content": null,
            "align_items": null,
            "align_self": null,
            "border": null,
            "bottom": null,
            "display": null,
            "flex": null,
            "flex_flow": null,
            "grid_area": null,
            "grid_auto_columns": null,
            "grid_auto_flow": null,
            "grid_auto_rows": null,
            "grid_column": null,
            "grid_gap": null,
            "grid_row": null,
            "grid_template_areas": null,
            "grid_template_columns": null,
            "grid_template_rows": null,
            "height": null,
            "justify_content": null,
            "justify_items": null,
            "left": null,
            "margin": null,
            "max_height": null,
            "max_width": null,
            "min_height": null,
            "min_width": null,
            "object_fit": null,
            "object_position": null,
            "order": null,
            "overflow": null,
            "overflow_x": null,
            "overflow_y": null,
            "padding": null,
            "right": null,
            "top": null,
            "visibility": null,
            "width": null
          }
        },
        "726921a7c7ca44108783029fc78e9fea": {
          "model_module": "@jupyter-widgets/base",
          "model_name": "LayoutModel",
          "model_module_version": "1.2.0",
          "state": {
            "_model_module": "@jupyter-widgets/base",
            "_model_module_version": "1.2.0",
            "_model_name": "LayoutModel",
            "_view_count": null,
            "_view_module": "@jupyter-widgets/base",
            "_view_module_version": "1.2.0",
            "_view_name": "LayoutView",
            "align_content": null,
            "align_items": null,
            "align_self": null,
            "border": null,
            "bottom": null,
            "display": null,
            "flex": null,
            "flex_flow": null,
            "grid_area": null,
            "grid_auto_columns": null,
            "grid_auto_flow": null,
            "grid_auto_rows": null,
            "grid_column": null,
            "grid_gap": null,
            "grid_row": null,
            "grid_template_areas": null,
            "grid_template_columns": null,
            "grid_template_rows": null,
            "height": null,
            "justify_content": null,
            "justify_items": null,
            "left": null,
            "margin": null,
            "max_height": null,
            "max_width": null,
            "min_height": null,
            "min_width": null,
            "object_fit": null,
            "object_position": null,
            "order": null,
            "overflow": null,
            "overflow_x": null,
            "overflow_y": null,
            "padding": null,
            "right": null,
            "top": null,
            "visibility": null,
            "width": null
          }
        },
        "8f2b4957cc854850a61a557a24f5a297": {
          "model_module": "@jupyter-widgets/controls",
          "model_name": "DescriptionStyleModel",
          "model_module_version": "1.5.0",
          "state": {
            "_model_module": "@jupyter-widgets/controls",
            "_model_module_version": "1.5.0",
            "_model_name": "DescriptionStyleModel",
            "_view_count": null,
            "_view_module": "@jupyter-widgets/base",
            "_view_module_version": "1.2.0",
            "_view_name": "StyleView",
            "description_width": ""
          }
        },
        "fe889c956eba4f0f978938246c914d67": {
          "model_module": "@jupyter-widgets/base",
          "model_name": "LayoutModel",
          "model_module_version": "1.2.0",
          "state": {
            "_model_module": "@jupyter-widgets/base",
            "_model_module_version": "1.2.0",
            "_model_name": "LayoutModel",
            "_view_count": null,
            "_view_module": "@jupyter-widgets/base",
            "_view_module_version": "1.2.0",
            "_view_name": "LayoutView",
            "align_content": null,
            "align_items": null,
            "align_self": null,
            "border": null,
            "bottom": null,
            "display": null,
            "flex": null,
            "flex_flow": null,
            "grid_area": null,
            "grid_auto_columns": null,
            "grid_auto_flow": null,
            "grid_auto_rows": null,
            "grid_column": null,
            "grid_gap": null,
            "grid_row": null,
            "grid_template_areas": null,
            "grid_template_columns": null,
            "grid_template_rows": null,
            "height": null,
            "justify_content": null,
            "justify_items": null,
            "left": null,
            "margin": null,
            "max_height": null,
            "max_width": null,
            "min_height": null,
            "min_width": null,
            "object_fit": null,
            "object_position": null,
            "order": null,
            "overflow": null,
            "overflow_x": null,
            "overflow_y": null,
            "padding": null,
            "right": null,
            "top": null,
            "visibility": null,
            "width": null
          }
        },
        "fd9d2846512b4ba7b664e52f4cad2572": {
          "model_module": "@jupyter-widgets/controls",
          "model_name": "ProgressStyleModel",
          "model_module_version": "1.5.0",
          "state": {
            "_model_module": "@jupyter-widgets/controls",
            "_model_module_version": "1.5.0",
            "_model_name": "ProgressStyleModel",
            "_view_count": null,
            "_view_module": "@jupyter-widgets/base",
            "_view_module_version": "1.2.0",
            "_view_name": "StyleView",
            "bar_color": null,
            "description_width": ""
          }
        },
        "8bb57ac654fc4ae0b80042c8fcb4c38d": {
          "model_module": "@jupyter-widgets/base",
          "model_name": "LayoutModel",
          "model_module_version": "1.2.0",
          "state": {
            "_model_module": "@jupyter-widgets/base",
            "_model_module_version": "1.2.0",
            "_model_name": "LayoutModel",
            "_view_count": null,
            "_view_module": "@jupyter-widgets/base",
            "_view_module_version": "1.2.0",
            "_view_name": "LayoutView",
            "align_content": null,
            "align_items": null,
            "align_self": null,
            "border": null,
            "bottom": null,
            "display": null,
            "flex": null,
            "flex_flow": null,
            "grid_area": null,
            "grid_auto_columns": null,
            "grid_auto_flow": null,
            "grid_auto_rows": null,
            "grid_column": null,
            "grid_gap": null,
            "grid_row": null,
            "grid_template_areas": null,
            "grid_template_columns": null,
            "grid_template_rows": null,
            "height": null,
            "justify_content": null,
            "justify_items": null,
            "left": null,
            "margin": null,
            "max_height": null,
            "max_width": null,
            "min_height": null,
            "min_width": null,
            "object_fit": null,
            "object_position": null,
            "order": null,
            "overflow": null,
            "overflow_x": null,
            "overflow_y": null,
            "padding": null,
            "right": null,
            "top": null,
            "visibility": null,
            "width": null
          }
        },
        "e09632d6f8c34fd086b10405551d0cd8": {
          "model_module": "@jupyter-widgets/controls",
          "model_name": "DescriptionStyleModel",
          "model_module_version": "1.5.0",
          "state": {
            "_model_module": "@jupyter-widgets/controls",
            "_model_module_version": "1.5.0",
            "_model_name": "DescriptionStyleModel",
            "_view_count": null,
            "_view_module": "@jupyter-widgets/base",
            "_view_module_version": "1.2.0",
            "_view_name": "StyleView",
            "description_width": ""
          }
        },
        "b73605d424fe4fe6993b192a52fc8177": {
          "model_module": "@jupyter-widgets/controls",
          "model_name": "HBoxModel",
          "model_module_version": "1.5.0",
          "state": {
            "_dom_classes": [],
            "_model_module": "@jupyter-widgets/controls",
            "_model_module_version": "1.5.0",
            "_model_name": "HBoxModel",
            "_view_count": null,
            "_view_module": "@jupyter-widgets/controls",
            "_view_module_version": "1.5.0",
            "_view_name": "HBoxView",
            "box_style": "",
            "children": [
              "IPY_MODEL_19996e88eab04199b06b4f7c96af4861",
              "IPY_MODEL_6bd6084d7fd642f293dbc95d7d541876",
              "IPY_MODEL_f3b8ff7f77ea433483cdf6585d6ff972"
            ],
            "layout": "IPY_MODEL_3b38ccca138d4b4190afea33e1578359"
          }
        },
        "19996e88eab04199b06b4f7c96af4861": {
          "model_module": "@jupyter-widgets/controls",
          "model_name": "HTMLModel",
          "model_module_version": "1.5.0",
          "state": {
            "_dom_classes": [],
            "_model_module": "@jupyter-widgets/controls",
            "_model_module_version": "1.5.0",
            "_model_name": "HTMLModel",
            "_view_count": null,
            "_view_module": "@jupyter-widgets/controls",
            "_view_module_version": "1.5.0",
            "_view_name": "HTMLView",
            "description": "",
            "description_tooltip": null,
            "layout": "IPY_MODEL_70b43e95ca8841c39efcdf4e5061c054",
            "placeholder": "​",
            "style": "IPY_MODEL_5b67d2aa159f4109ad5362bd239181da",
            "value": "100%"
          }
        },
        "6bd6084d7fd642f293dbc95d7d541876": {
          "model_module": "@jupyter-widgets/controls",
          "model_name": "FloatProgressModel",
          "model_module_version": "1.5.0",
          "state": {
            "_dom_classes": [],
            "_model_module": "@jupyter-widgets/controls",
            "_model_module_version": "1.5.0",
            "_model_name": "FloatProgressModel",
            "_view_count": null,
            "_view_module": "@jupyter-widgets/controls",
            "_view_module_version": "1.5.0",
            "_view_name": "ProgressView",
            "bar_style": "success",
            "description": "",
            "description_tooltip": null,
            "layout": "IPY_MODEL_beb5739163ca48fc91bcbee6ffac8969",
            "max": 5148,
            "min": 0,
            "orientation": "horizontal",
            "style": "IPY_MODEL_5cd2b3cc81c1469fbaacf2f462034df3",
            "value": 5148
          }
        },
        "f3b8ff7f77ea433483cdf6585d6ff972": {
          "model_module": "@jupyter-widgets/controls",
          "model_name": "HTMLModel",
          "model_module_version": "1.5.0",
          "state": {
            "_dom_classes": [],
            "_model_module": "@jupyter-widgets/controls",
            "_model_module_version": "1.5.0",
            "_model_name": "HTMLModel",
            "_view_count": null,
            "_view_module": "@jupyter-widgets/controls",
            "_view_module_version": "1.5.0",
            "_view_name": "HTMLView",
            "description": "",
            "description_tooltip": null,
            "layout": "IPY_MODEL_a2ed1613d5cb459583bd8cbdc40eaf4a",
            "placeholder": "​",
            "style": "IPY_MODEL_905a289b7f654002932eb97eed5cb525",
            "value": " 5148/5148 [00:00&lt;00:00, 295202.30it/s]"
          }
        },
        "3b38ccca138d4b4190afea33e1578359": {
          "model_module": "@jupyter-widgets/base",
          "model_name": "LayoutModel",
          "model_module_version": "1.2.0",
          "state": {
            "_model_module": "@jupyter-widgets/base",
            "_model_module_version": "1.2.0",
            "_model_name": "LayoutModel",
            "_view_count": null,
            "_view_module": "@jupyter-widgets/base",
            "_view_module_version": "1.2.0",
            "_view_name": "LayoutView",
            "align_content": null,
            "align_items": null,
            "align_self": null,
            "border": null,
            "bottom": null,
            "display": null,
            "flex": null,
            "flex_flow": null,
            "grid_area": null,
            "grid_auto_columns": null,
            "grid_auto_flow": null,
            "grid_auto_rows": null,
            "grid_column": null,
            "grid_gap": null,
            "grid_row": null,
            "grid_template_areas": null,
            "grid_template_columns": null,
            "grid_template_rows": null,
            "height": null,
            "justify_content": null,
            "justify_items": null,
            "left": null,
            "margin": null,
            "max_height": null,
            "max_width": null,
            "min_height": null,
            "min_width": null,
            "object_fit": null,
            "object_position": null,
            "order": null,
            "overflow": null,
            "overflow_x": null,
            "overflow_y": null,
            "padding": null,
            "right": null,
            "top": null,
            "visibility": null,
            "width": null
          }
        },
        "70b43e95ca8841c39efcdf4e5061c054": {
          "model_module": "@jupyter-widgets/base",
          "model_name": "LayoutModel",
          "model_module_version": "1.2.0",
          "state": {
            "_model_module": "@jupyter-widgets/base",
            "_model_module_version": "1.2.0",
            "_model_name": "LayoutModel",
            "_view_count": null,
            "_view_module": "@jupyter-widgets/base",
            "_view_module_version": "1.2.0",
            "_view_name": "LayoutView",
            "align_content": null,
            "align_items": null,
            "align_self": null,
            "border": null,
            "bottom": null,
            "display": null,
            "flex": null,
            "flex_flow": null,
            "grid_area": null,
            "grid_auto_columns": null,
            "grid_auto_flow": null,
            "grid_auto_rows": null,
            "grid_column": null,
            "grid_gap": null,
            "grid_row": null,
            "grid_template_areas": null,
            "grid_template_columns": null,
            "grid_template_rows": null,
            "height": null,
            "justify_content": null,
            "justify_items": null,
            "left": null,
            "margin": null,
            "max_height": null,
            "max_width": null,
            "min_height": null,
            "min_width": null,
            "object_fit": null,
            "object_position": null,
            "order": null,
            "overflow": null,
            "overflow_x": null,
            "overflow_y": null,
            "padding": null,
            "right": null,
            "top": null,
            "visibility": null,
            "width": null
          }
        },
        "5b67d2aa159f4109ad5362bd239181da": {
          "model_module": "@jupyter-widgets/controls",
          "model_name": "DescriptionStyleModel",
          "model_module_version": "1.5.0",
          "state": {
            "_model_module": "@jupyter-widgets/controls",
            "_model_module_version": "1.5.0",
            "_model_name": "DescriptionStyleModel",
            "_view_count": null,
            "_view_module": "@jupyter-widgets/base",
            "_view_module_version": "1.2.0",
            "_view_name": "StyleView",
            "description_width": ""
          }
        },
        "beb5739163ca48fc91bcbee6ffac8969": {
          "model_module": "@jupyter-widgets/base",
          "model_name": "LayoutModel",
          "model_module_version": "1.2.0",
          "state": {
            "_model_module": "@jupyter-widgets/base",
            "_model_module_version": "1.2.0",
            "_model_name": "LayoutModel",
            "_view_count": null,
            "_view_module": "@jupyter-widgets/base",
            "_view_module_version": "1.2.0",
            "_view_name": "LayoutView",
            "align_content": null,
            "align_items": null,
            "align_self": null,
            "border": null,
            "bottom": null,
            "display": null,
            "flex": null,
            "flex_flow": null,
            "grid_area": null,
            "grid_auto_columns": null,
            "grid_auto_flow": null,
            "grid_auto_rows": null,
            "grid_column": null,
            "grid_gap": null,
            "grid_row": null,
            "grid_template_areas": null,
            "grid_template_columns": null,
            "grid_template_rows": null,
            "height": null,
            "justify_content": null,
            "justify_items": null,
            "left": null,
            "margin": null,
            "max_height": null,
            "max_width": null,
            "min_height": null,
            "min_width": null,
            "object_fit": null,
            "object_position": null,
            "order": null,
            "overflow": null,
            "overflow_x": null,
            "overflow_y": null,
            "padding": null,
            "right": null,
            "top": null,
            "visibility": null,
            "width": null
          }
        },
        "5cd2b3cc81c1469fbaacf2f462034df3": {
          "model_module": "@jupyter-widgets/controls",
          "model_name": "ProgressStyleModel",
          "model_module_version": "1.5.0",
          "state": {
            "_model_module": "@jupyter-widgets/controls",
            "_model_module_version": "1.5.0",
            "_model_name": "ProgressStyleModel",
            "_view_count": null,
            "_view_module": "@jupyter-widgets/base",
            "_view_module_version": "1.2.0",
            "_view_name": "StyleView",
            "bar_color": null,
            "description_width": ""
          }
        },
        "a2ed1613d5cb459583bd8cbdc40eaf4a": {
          "model_module": "@jupyter-widgets/base",
          "model_name": "LayoutModel",
          "model_module_version": "1.2.0",
          "state": {
            "_model_module": "@jupyter-widgets/base",
            "_model_module_version": "1.2.0",
            "_model_name": "LayoutModel",
            "_view_count": null,
            "_view_module": "@jupyter-widgets/base",
            "_view_module_version": "1.2.0",
            "_view_name": "LayoutView",
            "align_content": null,
            "align_items": null,
            "align_self": null,
            "border": null,
            "bottom": null,
            "display": null,
            "flex": null,
            "flex_flow": null,
            "grid_area": null,
            "grid_auto_columns": null,
            "grid_auto_flow": null,
            "grid_auto_rows": null,
            "grid_column": null,
            "grid_gap": null,
            "grid_row": null,
            "grid_template_areas": null,
            "grid_template_columns": null,
            "grid_template_rows": null,
            "height": null,
            "justify_content": null,
            "justify_items": null,
            "left": null,
            "margin": null,
            "max_height": null,
            "max_width": null,
            "min_height": null,
            "min_width": null,
            "object_fit": null,
            "object_position": null,
            "order": null,
            "overflow": null,
            "overflow_x": null,
            "overflow_y": null,
            "padding": null,
            "right": null,
            "top": null,
            "visibility": null,
            "width": null
          }
        },
        "905a289b7f654002932eb97eed5cb525": {
          "model_module": "@jupyter-widgets/controls",
          "model_name": "DescriptionStyleModel",
          "model_module_version": "1.5.0",
          "state": {
            "_model_module": "@jupyter-widgets/controls",
            "_model_module_version": "1.5.0",
            "_model_name": "DescriptionStyleModel",
            "_view_count": null,
            "_view_module": "@jupyter-widgets/base",
            "_view_module_version": "1.2.0",
            "_view_name": "StyleView",
            "description_width": ""
          }
        }
      }
    }
  },
  "cells": [
    {
      "cell_type": "code",
      "execution_count": 1,
      "metadata": {
        "id": "WxPjco6AcndJ"
      },
      "outputs": [],
      "source": [
        "# Importing all Necessary Libraries in a Single Cell to make it Easier\n",
        "import torch \n",
        "import torchvision \n",
        "import torchvision.transforms as transforms \n",
        "import torch.nn as nn \n",
        "import torch.nn.functional as F \n",
        "import torch.optim as optim \n",
        "import torch.autograd as grad\n",
        "import matplotlib.pyplot as plt \n",
        "import numpy as np \n",
        "import pandas as pd\n",
        "from torch.utils.data import Dataset "
      ]
    },
    {
      "cell_type": "code",
      "source": [
        "# Downloading Fashion MNIST Training Dataset\n",
        "train_set = torchvision.datasets.FashionMNIST(\n",
        "    root = './data', # Dataset Location\n",
        "    train = True, # Fetching Training Dataset \n",
        "    download = True, # Downloading\n",
        "    transform = transforms.Compose([\n",
        "        transforms.ToTensor() # Converting it into an Tensor \n",
        "        ])\n",
        ")"
      ],
      "metadata": {
        "id": "ShlzZt2DQ2uC",
        "colab": {
          "base_uri": "https://localhost:8080/",
          "height": 423,
          "referenced_widgets": [
            "84313c02d53744f89ca95f7cc6448d04",
            "ec0293f551924a908ea94e60572a4fd1",
            "014f01ba57b84a34abef1ea1f297a2ba",
            "0ecde280613e47d69453b4169563a52c",
            "411cb6835bc146979b509a6c8825223b",
            "232bfd8b332f411f8a06915e01ef2d4b",
            "b8466239b1d94edea32f692a5435e979",
            "6424c008d0fc41968f19de9de1b78a51",
            "643cb6bf43264a31b458ea03c112da29",
            "9f96cae889d743be996c3799f53e5d4a",
            "00dd52b8ab9740d89f04aa27edf80059",
            "1d25d0eae3604530be62338c213a1cc5",
            "9e1936cdd282421a92bd6f6fd64bda25",
            "f9b64a128d2949fda56274c97b5e4216",
            "12e6a36e4314493b995379686fb3fa86",
            "c755f214688e4d52a6e87c8c02b4694a",
            "7fed744fe232491cb27870a65c69e68b",
            "eced18d01d34461887af89df18147315",
            "a8820dd3c0794547885e717e814f3ca9",
            "d50a42eb27954abcbe7d4023e1436019",
            "978f4720177f4836b8c8b3d8f06bce5d",
            "056c0ee77f8f48678856fbdcf08aee14",
            "a88cc3a045c44172b3d1e82ca83fa1a5",
            "cc52fce610f94eeeab5a3debd6e8c003",
            "2c3e8966976047c8a6bbd9b6e9c937a2",
            "f30d6d12892849df85ee01b1689a1a65",
            "d94e2f3b4868439aab12ccd93e40be04",
            "726921a7c7ca44108783029fc78e9fea",
            "8f2b4957cc854850a61a557a24f5a297",
            "fe889c956eba4f0f978938246c914d67",
            "fd9d2846512b4ba7b664e52f4cad2572",
            "8bb57ac654fc4ae0b80042c8fcb4c38d",
            "e09632d6f8c34fd086b10405551d0cd8",
            "b73605d424fe4fe6993b192a52fc8177",
            "19996e88eab04199b06b4f7c96af4861",
            "6bd6084d7fd642f293dbc95d7d541876",
            "f3b8ff7f77ea433483cdf6585d6ff972",
            "3b38ccca138d4b4190afea33e1578359",
            "70b43e95ca8841c39efcdf4e5061c054",
            "5b67d2aa159f4109ad5362bd239181da",
            "beb5739163ca48fc91bcbee6ffac8969",
            "5cd2b3cc81c1469fbaacf2f462034df3",
            "a2ed1613d5cb459583bd8cbdc40eaf4a",
            "905a289b7f654002932eb97eed5cb525"
          ]
        },
        "outputId": "fec47305-144f-4c58-9706-53592b4cd417"
      },
      "execution_count": 2,
      "outputs": [
        {
          "output_type": "stream",
          "name": "stdout",
          "text": [
            "Downloading http://fashion-mnist.s3-website.eu-central-1.amazonaws.com/train-images-idx3-ubyte.gz\n",
            "Downloading http://fashion-mnist.s3-website.eu-central-1.amazonaws.com/train-images-idx3-ubyte.gz to ./data/FashionMNIST/raw/train-images-idx3-ubyte.gz\n"
          ]
        },
        {
          "output_type": "display_data",
          "data": {
            "text/plain": [
              "  0%|          | 0/26421880 [00:00<?, ?it/s]"
            ],
            "application/vnd.jupyter.widget-view+json": {
              "version_major": 2,
              "version_minor": 0,
              "model_id": "84313c02d53744f89ca95f7cc6448d04"
            }
          },
          "metadata": {}
        },
        {
          "output_type": "stream",
          "name": "stdout",
          "text": [
            "Extracting ./data/FashionMNIST/raw/train-images-idx3-ubyte.gz to ./data/FashionMNIST/raw\n",
            "\n",
            "Downloading http://fashion-mnist.s3-website.eu-central-1.amazonaws.com/train-labels-idx1-ubyte.gz\n",
            "Downloading http://fashion-mnist.s3-website.eu-central-1.amazonaws.com/train-labels-idx1-ubyte.gz to ./data/FashionMNIST/raw/train-labels-idx1-ubyte.gz\n"
          ]
        },
        {
          "output_type": "display_data",
          "data": {
            "text/plain": [
              "  0%|          | 0/29515 [00:00<?, ?it/s]"
            ],
            "application/vnd.jupyter.widget-view+json": {
              "version_major": 2,
              "version_minor": 0,
              "model_id": "1d25d0eae3604530be62338c213a1cc5"
            }
          },
          "metadata": {}
        },
        {
          "output_type": "stream",
          "name": "stdout",
          "text": [
            "Extracting ./data/FashionMNIST/raw/train-labels-idx1-ubyte.gz to ./data/FashionMNIST/raw\n",
            "\n",
            "Downloading http://fashion-mnist.s3-website.eu-central-1.amazonaws.com/t10k-images-idx3-ubyte.gz\n",
            "Downloading http://fashion-mnist.s3-website.eu-central-1.amazonaws.com/t10k-images-idx3-ubyte.gz to ./data/FashionMNIST/raw/t10k-images-idx3-ubyte.gz\n"
          ]
        },
        {
          "output_type": "display_data",
          "data": {
            "text/plain": [
              "  0%|          | 0/4422102 [00:00<?, ?it/s]"
            ],
            "application/vnd.jupyter.widget-view+json": {
              "version_major": 2,
              "version_minor": 0,
              "model_id": "a88cc3a045c44172b3d1e82ca83fa1a5"
            }
          },
          "metadata": {}
        },
        {
          "output_type": "stream",
          "name": "stdout",
          "text": [
            "Extracting ./data/FashionMNIST/raw/t10k-images-idx3-ubyte.gz to ./data/FashionMNIST/raw\n",
            "\n",
            "Downloading http://fashion-mnist.s3-website.eu-central-1.amazonaws.com/t10k-labels-idx1-ubyte.gz\n",
            "Downloading http://fashion-mnist.s3-website.eu-central-1.amazonaws.com/t10k-labels-idx1-ubyte.gz to ./data/FashionMNIST/raw/t10k-labels-idx1-ubyte.gz\n"
          ]
        },
        {
          "output_type": "display_data",
          "data": {
            "text/plain": [
              "  0%|          | 0/5148 [00:00<?, ?it/s]"
            ],
            "application/vnd.jupyter.widget-view+json": {
              "version_major": 2,
              "version_minor": 0,
              "model_id": "b73605d424fe4fe6993b192a52fc8177"
            }
          },
          "metadata": {}
        },
        {
          "output_type": "stream",
          "name": "stdout",
          "text": [
            "Extracting ./data/FashionMNIST/raw/t10k-labels-idx1-ubyte.gz to ./data/FashionMNIST/raw\n",
            "\n"
          ]
        }
      ]
    },
    {
      "cell_type": "code",
      "source": [
        "# Custom Dataset Class for Generating Random Numbers and its Labels \n",
        "class CustomDataset(Dataset):\n",
        "  def __init__(self, train_set, dataset_size):\n",
        "    random_number = torch.randint(0, 10, (dataset_size, 1)).squeeze() # Generating Random Numbers in range 0 - 9 as 1D Tensor(Batch Size)\n",
        "    random_one_hot = F.one_hot(random_number, num_classes = 10) # Converting Random Numbers into 10 Digits using One Hot Encoding\n",
        "    labels = train_set.targets + random_number # Creating Labels for Random Number Data by adding with the Labels of MNIST Dataset \n",
        "    self.data = [(train_set[index], (random_one_hot[index], labels[index].item())) for index in range(dataset_size)] \n",
        "    # self.data is a list which has MNIST Data along with Labels and Random Number Data along with its Labels\n",
        "  def __getitem__(self, index):\n",
        "    data = self.data[index]\n",
        "    return data\n",
        "  def __len__(self):\n",
        "    return len(self.data)"
      ],
      "metadata": {
        "id": "792gkzkd8Uft"
      },
      "execution_count": 3,
      "outputs": []
    },
    {
      "cell_type": "code",
      "source": [
        "train_dataset = CustomDataset(train_set, len(train_set.targets)) # Creating Custom Training Dataset"
      ],
      "metadata": {
        "id": "sMl3zsAwAsye"
      },
      "execution_count": 4,
      "outputs": []
    },
    {
      "cell_type": "code",
      "source": [
        "data_loader = torch.utils.data.DataLoader(\n",
        "    train_dataset, # Custom Training Dataset\n",
        "    batch_size = 64, # Batch Size = 64 (should be in power of 2 to Utilize GPU Better)\n",
        "    shuffle = True \n",
        "    )"
      ],
      "metadata": {
        "id": "kvRl9HjV8iMp"
      },
      "execution_count": 5,
      "outputs": []
    },
    {
      "cell_type": "code",
      "source": [
        "# Plotting a Batch of Images from the Dataset in order to make Inference \n",
        "batch = next(iter(data_loader)) # getting an Batch of 100 Images from Total Dataset of 60000 Images\n",
        "data1, data2 = batch # Unpacking Fashion MNIST Data and Random Number Data\n",
        "images, labels1 = data1 # Unpacking Images and Labels of Fahsion MNIST Dataset\n",
        "grid = torchvision.utils.make_grid(images, nrow = 8) # Creating Grid \n",
        "plt.figure(figsize = (15, 15)) # Defining Output Figure Size\n",
        "plt.imshow(np.transpose(grid, (1, 2, 0))) # Displaying "
      ],
      "metadata": {
        "colab": {
          "base_uri": "https://localhost:8080/",
          "height": 883
        },
        "id": "qxFxOllF9HnS",
        "outputId": "2ee98500-fe61-41fd-e2fa-dd284fd6aca3"
      },
      "execution_count": 6,
      "outputs": [
        {
          "output_type": "execute_result",
          "data": {
            "text/plain": [
              "<matplotlib.image.AxesImage at 0x7fa930cce4c0>"
            ]
          },
          "metadata": {},
          "execution_count": 6
        },
        {
          "output_type": "display_data",
          "data": {
            "text/plain": [
              "<Figure size 1080x1080 with 1 Axes>"
            ],
            "image/png": "[encoded data removed]"
          },
          "metadata": {
            "needs_background": "light"
          }
        }
      ]
    },
    {
      "cell_type": "code",
      "source": [
        "# Building a Neural Network 1 which takes two inputs(image and random number) then mixes the Convoluted Output of an Image and Random Number at Fully Connected Layer to produces two Outputs.\n",
        "class Network1(nn.Module):\n",
        "  def __init__(self, output_class):\n",
        "    super().__init__()\n",
        "    self.output_class = output_class \n",
        "    self.conv1 = nn.Conv2d(in_channels = 1, out_channels = 8, kernel_size = 3)# input = 28*28, output = 26*26, RF = 3, kernel_size = 3*3\n",
        "    self.conv2 = nn.Conv2d(in_channels = 8, out_channels = 16, kernel_size = 3)# input = 26*26, output = 24*24, RF = 5, kernel_size = 3*3\n",
        "    self.conv3 = nn.Conv2d(in_channels = 16, out_channels = 32, kernel_size = 3)# input = 24*24, output = 22*22, RF = 7, kernel_size = 3*3\n",
        "    self.conv4 = nn.Conv2d(in_channels = 32, out_channels = 64, kernel_size = 3)# input = 22*22, output = 20*20, RF = 9, kernel_size = 3*3\n",
        "    self.conv5 = nn.Conv2d(in_channels = 64, out_channels = 128, kernel_size = 3)# input = 20*20, output = 18*18, RF = 11, kernel_size = 3*3\n",
        "    # Max Pooling Layer - input 18*18, kernel_size = 2*2, stride = 2, output = 9*9\n",
        "    self.fc1 = nn.Linear(in_features = 128*9*9+10, out_features = 120) # input = 128*9*9+10(No of channels-128, Image Size-9*9, Random Number-10), output = 120\n",
        "    self.fc2 = nn.Linear(in_features = 120, out_features = 60) # input = 120, output = 60\n",
        "    self.output = nn.Linear(in_features = 60, out_features = self.output_class) # input = 60, output = 29\n",
        "  def forward(self, tensor, random_num):\n",
        "    # Input Layer\n",
        "    x = tensor\n",
        "    # Convolution Layer 1\n",
        "    x = self.conv1(x)\n",
        "    x = F.relu(x)\n",
        "    # Convolution Layer 2 \n",
        "    x = self.conv2(x)\n",
        "    x = F.relu(x)\n",
        "    # Convolution Layer 3\n",
        "    x = self.conv3(x)\n",
        "    x = F.relu(x)\n",
        "    # Convolution Layer 4 \n",
        "    x = self.conv4(x)\n",
        "    x = F.relu(x)\n",
        "    # Convolution Layer 5 \n",
        "    x = self.conv5(x)\n",
        "    x = F.relu(x)\n",
        "    # Max Pooling \n",
        "    x = F.max_pool2d(x, kernel_size = 2, stride = 2)\n",
        "    # Flattening Our Tensor and adding the one hot encoded value of the Random Number. \n",
        "    x = x.reshape(x.shape[0], -1) # Flattening of Tensor\n",
        "    x = torch.cat((x, random_num), dim = 1)\n",
        "    # x = torch.cat((x, F.one_hot(random_num, num_classes=10)), dim = 1) # num_classes = 10 (0 - 9) Possible Values.\n",
        "    # Fully Connected Layer 1 \n",
        "    x = self.fc1(x)\n",
        "    x = F.relu(x)\n",
        "    # Fully Connected Layer 2\n",
        "    x = self.fc2(x)\n",
        "    x = F.relu(x)\n",
        "    # Output Layer\n",
        "    x = self.output(x)\n",
        "    x = F.softmax(x, dim = 1)\n",
        "\n",
        "    return x[:,:10], x[:,10:]\n",
        "# Number of Output class is equal to sum of unique classes of the dataset and the 19 possible values for the second output\n",
        "output_class = torch.unique(train_set.targets).shape[0] + 19 # 19 indicates the possible values for sum of prediction and the random number[0 - 18]\n",
        "network1 = Network1(output_class)"
      ],
      "metadata": {
        "id": "XJmPsSdXTvXX"
      },
      "execution_count": 7,
      "outputs": []
    },
    {
      "cell_type": "code",
      "source": [
        "print(network1) # Verifying the Network"
      ],
      "metadata": {
        "colab": {
          "base_uri": "https://localhost:8080/"
        },
        "id": "VcuBrzxzLVeo",
        "outputId": "8c8ff3ff-313c-4355-dced-c3b6de8760b0"
      },
      "execution_count": 8,
      "outputs": [
        {
          "output_type": "stream",
          "name": "stdout",
          "text": [
            "Network1(\n",
            "  (conv1): Conv2d(1, 8, kernel_size=(3, 3), stride=(1, 1))\n",
            "  (conv2): Conv2d(8, 16, kernel_size=(3, 3), stride=(1, 1))\n",
            "  (conv3): Conv2d(16, 32, kernel_size=(3, 3), stride=(1, 1))\n",
            "  (conv4): Conv2d(32, 64, kernel_size=(3, 3), stride=(1, 1))\n",
            "  (conv5): Conv2d(64, 128, kernel_size=(3, 3), stride=(1, 1))\n",
            "  (fc1): Linear(in_features=10378, out_features=120, bias=True)\n",
            "  (fc2): Linear(in_features=120, out_features=60, bias=True)\n",
            "  (output): Linear(in_features=60, out_features=29, bias=True)\n",
            ")\n"
          ]
        }
      ]
    },
    {
      "cell_type": "code",
      "source": [
        "# Function to get Number of Correct Predictions from two outputs and 2 labels\n",
        "def get_correct_predictions(prediction1, prediction2, labels1, labels2): \n",
        "  pred1_correct = prediction1.argmax(dim = 1).eq(labels1) # Compares Prediction1 with labels1 and return true or false\n",
        "  pred2_correct = prediction2.argmax(dim = 1).eq(labels2) # Compares Prediction2 with labels2 and return true or false\n",
        "  # Now we need to multiply prediction1 with prediction2 to get Correct Predictions in both the cases and then sum them up. \n",
        "  pred_correct = (pred1_correct * pred2_correct).sum().item() \n",
        "  return pred_correct # Returning the Total Number of Correct Predictions"
      ],
      "metadata": {
        "id": "4wMOz70A8iKX"
      },
      "execution_count": 9,
      "outputs": []
    },
    {
      "cell_type": "code",
      "source": [
        "# Function to Train the Network with all the Images in the Dataset and Running it for 10 Epochs to Improve the Accuracy.\n",
        "def model_training(dataset, epoch_no, network): \n",
        "  optimizer = optim.Adam(params = network.parameters(), lr = 0.001) # Defining Optimizer for the Neural Network (Adam in this case)\n",
        "  for epoch in range(1, epoch_no + 1): # Outer for loop to train the Network with Multiple Epochs\n",
        "    total_loss = 0 # Variable to Gauge Loss for the Respective Epoch\n",
        "    total_correct = 0 # Variable to keep track of Total Number of Correct Predictions\n",
        "    image_count = 0 # Variable to keep track of Images count \n",
        "    for batch_no, batch in enumerate(dataset, start = 1): # Inner for loop to train the network with batch of Images\n",
        "      data1, data2 = batch # Unpacking Fashion MNIST Data and Random Number Data\n",
        "      images, labels1 = data1 # Unpacking Images and Labels of Fashion MNIST Dataset\n",
        "      random_number, labels2 = data2 # Unpacking Random Number Data and it Labels\n",
        "      prediction1, prediction2 = network(images, random_number) # Passing the batch of Images, Random Values to the Network \n",
        "      optimizer.zero_grad() # Making the Gradients Zero to Release the Gradients of Previous batch\n",
        "      loss = F.cross_entropy(prediction1, labels1) + F.cross_entropy(prediction2, labels2) # Summing the Loss for both the Outputs.\n",
        "      total_loss += loss.item() # Adding it to the Total Loss for the Current Epoch\n",
        "      total_correct += get_correct_predictions(prediction1, prediction2, labels1, labels2) # Total Correct\n",
        "      loss.backward() # Calculating the Gradients\n",
        "      optimizer.step() # Updating the Weights of the Network\n",
        "      image_count += images.shape[0]\n",
        "    if epoch_no <= 20:\n",
        "      print(f'Epoch {epoch} Result :-')\n",
        "      print(f'Total Images Processed in this Epoch : {image_count}')\n",
        "      print(f'Loss for this Current Epoch : {total_loss}')\n",
        "      print(f'Total Number of Correct Predictions for both the Outputs : {total_correct}')\n",
        "    elif epoch_no > 20 and epoch%10 == 0:\n",
        "      print(f'Epoch {epoch} Result :-')\n",
        "      print(f'Total Images Processed in this Epoch : {image_count}')\n",
        "      print(f'Loss for this Current Epoch : {total_loss}')\n",
        "      print(f'Total Number of Correct Predictions for both the Outputs : {total_correct}')\n",
        "  print(f'Model Training Completed!!!!')"
      ],
      "metadata": {
        "id": "JhpAls-y3TEn"
      },
      "execution_count": 10,
      "outputs": []
    },
    {
      "cell_type": "code",
      "source": [
        "model_training(data_loader, 10, network1) # Calling the model_training Function and passing network1 "
      ],
      "metadata": {
        "colab": {
          "base_uri": "https://localhost:8080/"
        },
        "id": "L0PnG4ooaWXJ",
        "outputId": "4e94d592-c928-4fe3-b1de-c8c9ea3b04eb"
      },
      "execution_count": 11,
      "outputs": [
        {
          "output_type": "stream",
          "name": "stdout",
          "text": [
            "Epoch 1 Result :-\n",
            "Total Images Processed in this Epoch : 60000\n",
            "Loss for this Current Epoch : 4858.6908826828\n",
            "Total Number of Correct Predictions for both the Outputs : 779\n",
            "Epoch 2 Result :-\n",
            "Total Images Processed in this Epoch : 60000\n",
            "Loss for this Current Epoch : 4807.182219028473\n",
            "Total Number of Correct Predictions for both the Outputs : 1134\n",
            "Epoch 3 Result :-\n",
            "Total Images Processed in this Epoch : 60000\n",
            "Loss for this Current Epoch : 4810.719478130341\n",
            "Total Number of Correct Predictions for both the Outputs : 1125\n",
            "Epoch 4 Result :-\n",
            "Total Images Processed in this Epoch : 60000\n",
            "Loss for this Current Epoch : 4807.289442062378\n",
            "Total Number of Correct Predictions for both the Outputs : 1050\n",
            "Epoch 5 Result :-\n",
            "Total Images Processed in this Epoch : 60000\n",
            "Loss for this Current Epoch : 4832.140815734863\n",
            "Total Number of Correct Predictions for both the Outputs : 818\n",
            "Epoch 6 Result :-\n",
            "Total Images Processed in this Epoch : 60000\n",
            "Loss for this Current Epoch : 4908.256883621216\n",
            "Total Number of Correct Predictions for both the Outputs : 585\n",
            "Epoch 7 Result :-\n",
            "Total Images Processed in this Epoch : 60000\n",
            "Loss for this Current Epoch : 4908.256883621216\n",
            "Total Number of Correct Predictions for both the Outputs : 585\n",
            "Epoch 8 Result :-\n",
            "Total Images Processed in this Epoch : 60000\n",
            "Loss for this Current Epoch : 4908.210008621216\n",
            "Total Number of Correct Predictions for both the Outputs : 585\n",
            "Epoch 9 Result :-\n",
            "Total Images Processed in this Epoch : 60000\n",
            "Loss for this Current Epoch : 4908.147508621216\n",
            "Total Number of Correct Predictions for both the Outputs : 585\n",
            "Epoch 10 Result :-\n",
            "Total Images Processed in this Epoch : 60000\n",
            "Loss for this Current Epoch : 4908.163133621216\n",
            "Total Number of Correct Predictions for both the Outputs : 585\n",
            "Model Training Completed!!!!\n"
          ]
        }
      ]
    },
    {
      "cell_type": "code",
      "source": [
        "# Building a Neural Network 2 which takes one input and produces two outputs \n",
        "class Network2(nn.Module):\n",
        "  def __init__(self, output_class):\n",
        "    super().__init__()\n",
        "    self.output_class = output_class \n",
        "    self.conv1 = nn.Conv2d(in_channels = 1, out_channels = 8, kernel_size = 3)# input = 28*28, output = 26*26, RF = 3, kernel_size = 3*3\n",
        "    self.conv2 = nn.Conv2d(in_channels = 8, out_channels = 16, kernel_size = 3)# input = 26*26, output = 24*24, RF = 5, kernel_size = 3*3\n",
        "    self.conv3 = nn.Conv2d(in_channels = 16, out_channels = 32, kernel_size = 3)# input = 24*24, output = 22*22, RF = 7, kernel_size = 3*3\n",
        "    self.conv4 = nn.Conv2d(in_channels = 32, out_channels = 64, kernel_size = 3)# input = 22*22, output = 20*20, RF = 9, kernel_size = 3*3\n",
        "    self.conv5 = nn.Conv2d(in_channels = 64, out_channels = 128, kernel_size = 3)# input = 20*20, output = 18*18, RF = 11, kernel_size = 3*3\n",
        "    # Max Pooling - input 18*18, kernel_size = 2*2, stride = 2, output = 9*9\n",
        "    self.fc1 = nn.Linear(in_features = 128*9*9, out_features = 120)\n",
        "    self.fc2 = nn.Linear(in_features = 120, out_features = 60)\n",
        "    self.output = nn.Linear(in_features = 60, out_features = self.output_class)\n",
        "  def forward(self, tensor, random_value):\n",
        "    # Input Layer\n",
        "    for index in range(tensor.shape[0]): # for loop to iterate through each image in the Batch\n",
        "        tensor[index, :, -1, -10:] = random_value[index] # Replacing last ten values of 28*28 Image with this One Hot Encoded Random Values\n",
        "    x = tensor\n",
        "    # Convolution Layer 1\n",
        "    x = self.conv1(x)\n",
        "    x = F.relu(x)\n",
        "    # Convolution Layer 2 \n",
        "    x = self.conv2(x)\n",
        "    x = F.relu(x)\n",
        "    # Convolution Layer 3\n",
        "    x = self.conv3(x)\n",
        "    x = F.relu(x)\n",
        "    # Convolution Layer 4 \n",
        "    x = self.conv4(x)\n",
        "    x = F.relu(x)\n",
        "    # Convolution Layer 5 \n",
        "    x = self.conv5(x)\n",
        "    x = F.relu(x)\n",
        "    # Max Pooling \n",
        "    x = F.max_pool2d(x, kernel_size = 2, stride = 2)\n",
        "    # Flattening Our Tensor\n",
        "    x = x.reshape(x.shape[0], -1) # Flattening of Tensor\n",
        "    # Fully Connected Layer 1 \n",
        "    x = self.fc1(x)\n",
        "    x = F.relu(x)\n",
        "    # Fully Connected Layer 2\n",
        "    x = self.fc2(x)\n",
        "    x = F.relu(x)\n",
        "    # Output Layer\n",
        "    x = self.output(x)\n",
        "    x = F.softmax(x, dim = 1)\n",
        "\n",
        "    return x[:,:10], x[:,10:]\n",
        "# Number of Output class is equal to sum of unique classes of the dataset and the 19 possible values for the second output\n",
        "output_class = torch.unique(train_set.targets).shape[0] + 19 # 19 indicates the possible values for sum of prediction and the random number[0 - 18]\n",
        "network2 = Network2(output_class)"
      ],
      "metadata": {
        "id": "6h3KMrsc20HZ"
      },
      "execution_count": 15,
      "outputs": []
    },
    {
      "cell_type": "code",
      "source": [
        "print(network2) # Verifying the Network"
      ],
      "metadata": {
        "colab": {
          "base_uri": "https://localhost:8080/"
        },
        "id": "0RgPB11n8JAF",
        "outputId": "df0b39be-d97c-4609-9658-03ac4e360c71"
      },
      "execution_count": 16,
      "outputs": [
        {
          "output_type": "stream",
          "name": "stdout",
          "text": [
            "Network2(\n",
            "  (conv1): Conv2d(1, 8, kernel_size=(3, 3), stride=(1, 1))\n",
            "  (conv2): Conv2d(8, 16, kernel_size=(3, 3), stride=(1, 1))\n",
            "  (conv3): Conv2d(16, 32, kernel_size=(3, 3), stride=(1, 1))\n",
            "  (conv4): Conv2d(32, 64, kernel_size=(3, 3), stride=(1, 1))\n",
            "  (conv5): Conv2d(64, 128, kernel_size=(3, 3), stride=(1, 1))\n",
            "  (fc1): Linear(in_features=10368, out_features=120, bias=True)\n",
            "  (fc2): Linear(in_features=120, out_features=60, bias=True)\n",
            "  (output): Linear(in_features=60, out_features=29, bias=True)\n",
            ")\n"
          ]
        }
      ]
    },
    {
      "cell_type": "code",
      "source": [
        "model_training(data_loader, 10, network2) # Calling the model_training Function and Passing network2 this time."
      ],
      "metadata": {
        "id": "skfSWl8ztxKF",
        "colab": {
          "base_uri": "https://localhost:8080/"
        },
        "outputId": "0d9469b3-e62e-4232-de32-6054bc07385b"
      },
      "execution_count": 17,
      "outputs": [
        {
          "output_type": "stream",
          "name": "stdout",
          "text": [
            "Epoch 1 Result :-\n",
            "Total Images Processed in this Epoch : 60000\n",
            "Loss for this Current Epoch : 4891.879001617432\n",
            "Total Number of Correct Predictions for both the Outputs : 586\n",
            "Epoch 2 Result :-\n",
            "Total Images Processed in this Epoch : 60000\n",
            "Loss for this Current Epoch : 4837.478260040283\n",
            "Total Number of Correct Predictions for both the Outputs : 1009\n",
            "Epoch 3 Result :-\n",
            "Total Images Processed in this Epoch : 60000\n",
            "Loss for this Current Epoch : 4591.615690231323\n",
            "Total Number of Correct Predictions for both the Outputs : 2653\n",
            "Epoch 4 Result :-\n",
            "Total Images Processed in this Epoch : 60000\n",
            "Loss for this Current Epoch : 4487.286405086517\n",
            "Total Number of Correct Predictions for both the Outputs : 3477\n",
            "Epoch 5 Result :-\n",
            "Total Images Processed in this Epoch : 60000\n",
            "Loss for this Current Epoch : 4458.471816539764\n",
            "Total Number of Correct Predictions for both the Outputs : 3647\n",
            "Epoch 6 Result :-\n",
            "Total Images Processed in this Epoch : 60000\n",
            "Loss for this Current Epoch : 4447.959843158722\n",
            "Total Number of Correct Predictions for both the Outputs : 3829\n",
            "Epoch 7 Result :-\n",
            "Total Images Processed in this Epoch : 60000\n",
            "Loss for this Current Epoch : 4439.609226703644\n",
            "Total Number of Correct Predictions for both the Outputs : 3822\n",
            "Epoch 8 Result :-\n",
            "Total Images Processed in this Epoch : 60000\n",
            "Loss for this Current Epoch : 4435.454688549042\n",
            "Total Number of Correct Predictions for both the Outputs : 3879\n",
            "Epoch 9 Result :-\n",
            "Total Images Processed in this Epoch : 60000\n",
            "Loss for this Current Epoch : 4402.789065361023\n",
            "Total Number of Correct Predictions for both the Outputs : 4169\n",
            "Epoch 10 Result :-\n",
            "Total Images Processed in this Epoch : 60000\n",
            "Loss for this Current Epoch : 4369.406797409058\n",
            "Total Number of Correct Predictions for both the Outputs : 4399\n",
            "Model Training Completed!!!!\n"
          ]
        }
      ]
    },
    {
      "cell_type": "code",
      "source": [
        " # Downloading Test Dataset to Evaluate the Model\n",
        "test_set = torchvision.datasets.FashionMNIST(   \n",
        "    root = './data', # Dataset Location\n",
        "    train = False, # Fetching Test Dataset\n",
        "    download = True, # Downloading\n",
        "    transform = transforms.Compose([\n",
        "        transforms.ToTensor() # Converting it into an Tensor \n",
        "        ])\n",
        ")\n",
        "print(f'Test Set of Fashion MNIST Dataset has {len(test_set)} Images and Labels')"
      ],
      "metadata": {
        "colab": {
          "base_uri": "https://localhost:8080/"
        },
        "id": "H-y7T-G_zatY",
        "outputId": "6742cdb7-abf6-4b26-ed5e-0d4a638d7bbc"
      },
      "execution_count": 18,
      "outputs": [
        {
          "output_type": "stream",
          "name": "stdout",
          "text": [
            "Test Set of Fashion MNIST Dataset has 10000 Images and Labels\n"
          ]
        }
      ]
    },
    {
      "cell_type": "code",
      "source": [
        "test_dataset = CustomDataset(test_set, len(test_set.targets)) # Generating Custom Test Dataset "
      ],
      "metadata": {
        "id": "m3RoRzYF5D1p"
      },
      "execution_count": 19,
      "outputs": []
    },
    {
      "cell_type": "code",
      "source": [
        "# Loading Custom Dataset as a Batch \n",
        "test_loader = torch.utils.data.DataLoader(\n",
        "    train_dataset, # Custom Dataset\n",
        "    batch_size = 100, # Batch Size = 100 (Snce we are not Training the Model with this dataset, the Batch Size can be any value)\n",
        "    shuffle = True \n",
        "    )"
      ],
      "metadata": {
        "id": "F18wWWtjM2cE"
      },
      "execution_count": 20,
      "outputs": []
    },
    {
      "cell_type": "code",
      "source": [
        "# Function to Evaluate the Model. Returns Accuracy of the Model on given Dataset \n",
        "def evaluate_model(model, dataset):\n",
        "  total_correct = 0 # Variable to keep track of Total Number of Correct Predictions\n",
        "  image_count = 0 # Variable to keep track of Images count \n",
        "  for batch_no, batch in enumerate(dataset, start = 1): # Inner for loop to train the network with batch of Images\n",
        "    data1, data2 = batch # Unpacking Fashion MNIST Data and Random Number Data\n",
        "    images, labels1 = data1 # Unpacking Images and Labels of Fashion MNIST Dataset\n",
        "    random_number, labels2 = data2 # Unpacking Random Number Data and its Labels \n",
        "    prediction1, prediction2 = model(images, random_number) # Passing the batch of Images, Random Values to the Network \n",
        "    total_correct += get_correct_predictions(prediction1, prediction2, labels1, labels2) # Total Correct Predictions\n",
        "    image_count += images.shape[0] # Incrementing Image Count\n",
        "  accuracy = (total_correct/image_count) * 100 # Calculates Accuracy by dividing the Number of Correct Predictions with Total Predictions \n",
        "  return accuracy \n"
      ],
      "metadata": {
        "id": "4FcKTAc20nTK"
      },
      "execution_count": 21,
      "outputs": []
    },
    {
      "cell_type": "code",
      "source": [
        "accuracy_model1 = evaluate_model(network1, test_loader)\n",
        "print(f'Accuracy of network1 Model Calculated on Test Dataset is found to be {accuracy_model1}%')"
      ],
      "metadata": {
        "colab": {
          "base_uri": "https://localhost:8080/"
        },
        "id": "3Uz7U1Yh205y",
        "outputId": "14a7de2d-2265-45a7-dd45-b8b3df764dee"
      },
      "execution_count": 22,
      "outputs": [
        {
          "output_type": "stream",
          "name": "stdout",
          "text": [
            "Accuracy of network1 Model Calculated from Test Dataset is found to be 0.975%\n"
          ]
        }
      ]
    },
    {
      "cell_type": "code",
      "source": [
        "accuracy_model2 = evaluate_model(network2, test_loader)\n",
        "print(f'Accuracy of network2 Model Calculated on  Test Dataset is found to be {accuracy_model2}%')"
      ],
      "metadata": {
        "colab": {
          "base_uri": "https://localhost:8080/"
        },
        "id": "ZP27GHdyN-es",
        "outputId": "bc2cbeb9-a2e3-48a1-f0bf-458fef8c5630"
      },
      "execution_count": 23,
      "outputs": [
        {
          "output_type": "stream",
          "name": "stdout",
          "text": [
            "Accuracy of network2 Model Calculated on  Test Dataset is found to be 7.343333333333334%\n"
          ]
        }
      ]
    }
  ]
}
